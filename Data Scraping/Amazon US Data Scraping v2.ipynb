{
 "cells": [
  {
   "cell_type": "code",
   "execution_count": null,
   "id": "1fcbcf58-4225-49fd-86a7-ab1dd884350b",
   "metadata": {},
   "outputs": [],
   "source": [
    "pip install azure-storage-blob\n"
   ]
  },
  {
   "cell_type": "code",
   "execution_count": null,
   "id": "64c1a284-896b-4f32-aa3e-c0de08d8773a",
   "metadata": {},
   "outputs": [],
   "source": [
    "\n",
    "\n",
    "import requests\n",
    "from bs4 import BeautifulSoup\n",
    "import pandas as pd\n",
    "\n",
    "\n",
    "url = \"https://www.flipkart.com/search?q=mobile+phones&as=on&as-show=on&otracker=AS_Query_HistoryAutoSuggest_1_6_na_na_na&otracker1=AS_Query_HistoryAutoSuggest_1_6_na_na_na&as-pos=1&as-type=HISTORY&suggestionId=mobile+phones&requestId=76320354-c6bd-4d5e-aff8-638d6a1daa8d&as-backfill=on\"  # Replace as needed\n",
    "\n",
    "\n",
    "headers = {\n",
    "    \"User-Agent\": \"Mozilla/5.0 (Windows NT 10.0; Win64; x64) AppleWebKit/537.36 (KHTML, like Gecko) Chrome/138.0.0.0 Safari/537.36\"\n",
    "}\n",
    "\n",
    "\n",
    "response = requests.get(url, headers=headers)\n",
    "soup = BeautifulSoup(response.content, \"html.parser\")\n",
    "\n",
    "\n",
    "titles, prices, ratings, reviews = [], [], [], []\n",
    "\n",
    "\n",
    "products = soup.find_all(\"div\", class_=\"tUxRFH\")  \n",
    "for product in products:\n",
    "\n",
    "    title_tag = product.find(\"div\", class_=\"KzDlHZ\")\n",
    "    title = title_tag.get_text(strip=True) if title_tag else \"N/A\"\n",
    "    titles.append(title)\n",
    "\n",
    " \n",
    "    price_tag = product.find(\"div\", class_=\"Nx9bqj\")\n",
    "    price = price_tag.get_text(strip=True).replace(\"₹\", \"\").replace(\",\", \"\") if price_tag else \"N/A\"\n",
    "    prices.append(price)\n",
    "\n",
    "\n",
    "    rr_tag = product.find(\"span\", class_=\"Wphh3N\")\n",
    "    if rr_tag:\n",
    "        rr_text = rr_tag.get_text(strip=True)\n",
    "        try:\n",
    "            rating_part = rr_text.split(\"Ratings\")[0].replace(\",\", \"\").strip()\n",
    "            review_part = rr_text.split(\"Reviews\")[0].split(\"&\")[-1].strip().replace(\",\", \"\")\n",
    "        except:\n",
    "            rating_part, review_part = \"N/A\", \"N/A\"\n",
    "    else:\n",
    "        rating_part, review_part = \"N/A\", \"N/A\"\n",
    "\n",
    "    ratings.append(rating_part)\n",
    "    reviews.append(review_part)\n",
    "\n",
    "\n",
    "df = pd.DataFrame({\n",
    "    \"Title\": titles,\n",
    "    \"Price (INR)\": prices,\n",
    "    \"Ratings\": ratings,\n",
    "    \"Reviews\": reviews\n",
    "})\n",
    "\n",
    "\n",
    "df.to_csv(\"flipkart_products.csv\", index=False)\n",
    "\n",
    "print(f\"Scraped {len(df)} products and saved to 'flipkart_products.csv'\")\n",
    "df.head()\n"
   ]
  },
  {
   "cell_type": "code",
   "execution_count": null,
   "id": "9a1e3de8-2638-4a73-8340-1c18129804b7",
   "metadata": {},
   "outputs": [],
   "source": []
  },
  {
   "cell_type": "code",
   "execution_count": null,
   "id": "2f1bc8b1-720a-4a10-879a-ec12211253c3",
   "metadata": {},
   "outputs": [],
   "source": []
  }
 ],
 "metadata": {
  "kernelspec": {
   "display_name": "Python 3 (ipykernel)",
   "language": "python",
   "name": "python3"
  },
  "language_info": {
   "codemirror_mode": {
    "name": "ipython",
    "version": 3
   },
   "file_extension": ".py",
   "mimetype": "text/x-python",
   "name": "python",
   "nbconvert_exporter": "python",
   "pygments_lexer": "ipython3",
   "version": "3.10.0"
  }
 },
 "nbformat": 4,
 "nbformat_minor": 5
}
